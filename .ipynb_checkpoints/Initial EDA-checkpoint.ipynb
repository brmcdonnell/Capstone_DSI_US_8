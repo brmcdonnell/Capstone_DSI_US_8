{
 "cells": [
  {
   "cell_type": "markdown",
   "metadata": {},
   "source": [
    "# Initial EDA"
   ]
  },
  {
   "cell_type": "markdown",
   "metadata": {},
   "source": [
    "<i>**Author:** Brendan McDonnell</i>"
   ]
  },
  {
   "cell_type": "code",
   "execution_count": 1,
   "metadata": {},
   "outputs": [],
   "source": [
    "import pandas as pd"
   ]
  },
  {
   "cell_type": "code",
   "execution_count": 2,
   "metadata": {},
   "outputs": [],
   "source": [
    "df = pd.read_csv('college_athlete_data_19-08-12.csv')"
   ]
  },
  {
   "cell_type": "code",
   "execution_count": 3,
   "metadata": {},
   "outputs": [
    {
     "data": {
      "text/html": [
       "<div>\n",
       "<style scoped>\n",
       "    .dataframe tbody tr th:only-of-type {\n",
       "        vertical-align: middle;\n",
       "    }\n",
       "\n",
       "    .dataframe tbody tr th {\n",
       "        vertical-align: top;\n",
       "    }\n",
       "\n",
       "    .dataframe thead th {\n",
       "        text-align: right;\n",
       "    }\n",
       "</style>\n",
       "<table border=\"1\" class=\"dataframe\">\n",
       "  <thead>\n",
       "    <tr style=\"text-align: right;\">\n",
       "      <th></th>\n",
       "      <th>Name</th>\n",
       "      <th>Grade</th>\n",
       "      <th>Team</th>\n",
       "      <th>Location</th>\n",
       "      <th>Date</th>\n",
       "      <th>Events</th>\n",
       "      <th>Performance</th>\n",
       "      <th>Place</th>\n",
       "    </tr>\n",
       "  </thead>\n",
       "  <tbody>\n",
       "    <tr>\n",
       "      <th>0</th>\n",
       "      <td>Abbie Hetherington</td>\n",
       "      <td>(Sr-4)</td>\n",
       "      <td>Oklahoma State</td>\n",
       "      <td>Big 12 Championships</td>\n",
       "      <td>02/22 - Feb 23, 2019</td>\n",
       "      <td>1000</td>\n",
       "      <td>2:58.95</td>\n",
       "      <td>8th (F)</td>\n",
       "    </tr>\n",
       "    <tr>\n",
       "      <th>1</th>\n",
       "      <td>Abbie Hetherington</td>\n",
       "      <td>(Sr-4)</td>\n",
       "      <td>Oklahoma State</td>\n",
       "      <td>Big 12 Championships</td>\n",
       "      <td>02/22 - Feb 23, 2019</td>\n",
       "      <td>1000</td>\n",
       "      <td>2:51.03</td>\n",
       "      <td>4th (P)</td>\n",
       "    </tr>\n",
       "    <tr>\n",
       "      <th>2</th>\n",
       "      <td>Abbie Hetherington</td>\n",
       "      <td>(Sr-4)</td>\n",
       "      <td>Oklahoma State</td>\n",
       "      <td>Arkansas Qualifier</td>\n",
       "      <td>Feb 15, 2019</td>\n",
       "      <td>800</td>\n",
       "      <td>2:11.74</td>\n",
       "      <td>3rd (F)</td>\n",
       "    </tr>\n",
       "    <tr>\n",
       "      <th>3</th>\n",
       "      <td>Abbie Hetherington</td>\n",
       "      <td>(Sr-4)</td>\n",
       "      <td>Oklahoma State</td>\n",
       "      <td>2019 Husky Classic</td>\n",
       "      <td>02/08 - Feb  09, 2019</td>\n",
       "      <td>800</td>\n",
       "      <td>2:11.13</td>\n",
       "      <td>15th (F)</td>\n",
       "    </tr>\n",
       "    <tr>\n",
       "      <th>4</th>\n",
       "      <td>Abbie Hetherington</td>\n",
       "      <td>(Sr-4)</td>\n",
       "      <td>Oklahoma State</td>\n",
       "      <td>2019 UW Invitational</td>\n",
       "      <td>01/25 - Jan 26, 2019</td>\n",
       "      <td>800</td>\n",
       "      <td>2:10.01</td>\n",
       "      <td>18th (F)</td>\n",
       "    </tr>\n",
       "    <tr>\n",
       "      <th>5</th>\n",
       "      <td>Abbie Hetherington</td>\n",
       "      <td>(Sr-4)</td>\n",
       "      <td>Oklahoma State</td>\n",
       "      <td>Arkansas Invitational</td>\n",
       "      <td>Jan 11, 2019</td>\n",
       "      <td>800</td>\n",
       "      <td>2:11.07</td>\n",
       "      <td>1st (F)</td>\n",
       "    </tr>\n",
       "    <tr>\n",
       "      <th>6</th>\n",
       "      <td>Abbie Hetherington</td>\n",
       "      <td>(Sr-4)</td>\n",
       "      <td>Oklahoma State</td>\n",
       "      <td>Arkansas Invitational</td>\n",
       "      <td>Jan 11, 2019</td>\n",
       "      <td>4x400</td>\n",
       "      <td>3:53.65</td>\n",
       "      <td>9th (F)</td>\n",
       "    </tr>\n",
       "    <tr>\n",
       "      <th>7</th>\n",
       "      <td>Abbie Hetherington</td>\n",
       "      <td>(Sr-4)</td>\n",
       "      <td>Oklahoma State</td>\n",
       "      <td>Big 12 Cross Country Championships</td>\n",
       "      <td>Oct 26, 2018</td>\n",
       "      <td>6K</td>\n",
       "      <td>21:18.4</td>\n",
       "      <td>26th</td>\n",
       "    </tr>\n",
       "    <tr>\n",
       "      <th>8</th>\n",
       "      <td>Abbie Hetherington</td>\n",
       "      <td>(Sr-4)</td>\n",
       "      <td>Oklahoma State</td>\n",
       "      <td>Arturo Barrios Invitational</td>\n",
       "      <td>Oct 13, 2018</td>\n",
       "      <td>6K</td>\n",
       "      <td>22:09.1</td>\n",
       "      <td>57th</td>\n",
       "    </tr>\n",
       "    <tr>\n",
       "      <th>9</th>\n",
       "      <td>Abbie Hetherington</td>\n",
       "      <td>(Sr-4)</td>\n",
       "      <td>Oklahoma State</td>\n",
       "      <td>Nuttycombe Wisconsin Invitational Presented By...</td>\n",
       "      <td>Sep 28, 2018</td>\n",
       "      <td>6K</td>\n",
       "      <td>21:59.7</td>\n",
       "      <td>40th</td>\n",
       "    </tr>\n",
       "  </tbody>\n",
       "</table>\n",
       "</div>"
      ],
      "text/plain": [
       "                 Name   Grade            Team  \\\n",
       "0  Abbie Hetherington  (Sr-4)  Oklahoma State   \n",
       "1  Abbie Hetherington  (Sr-4)  Oklahoma State   \n",
       "2  Abbie Hetherington  (Sr-4)  Oklahoma State   \n",
       "3  Abbie Hetherington  (Sr-4)  Oklahoma State   \n",
       "4  Abbie Hetherington  (Sr-4)  Oklahoma State   \n",
       "5  Abbie Hetherington  (Sr-4)  Oklahoma State   \n",
       "6  Abbie Hetherington  (Sr-4)  Oklahoma State   \n",
       "7  Abbie Hetherington  (Sr-4)  Oklahoma State   \n",
       "8  Abbie Hetherington  (Sr-4)  Oklahoma State   \n",
       "9  Abbie Hetherington  (Sr-4)  Oklahoma State   \n",
       "\n",
       "                                            Location                   Date  \\\n",
       "0                               Big 12 Championships   02/22 - Feb 23, 2019   \n",
       "1                               Big 12 Championships   02/22 - Feb 23, 2019   \n",
       "2                                 Arkansas Qualifier           Feb 15, 2019   \n",
       "3                                 2019 Husky Classic  02/08 - Feb  09, 2019   \n",
       "4                               2019 UW Invitational   01/25 - Jan 26, 2019   \n",
       "5                              Arkansas Invitational           Jan 11, 2019   \n",
       "6                              Arkansas Invitational           Jan 11, 2019   \n",
       "7                 Big 12 Cross Country Championships           Oct 26, 2018   \n",
       "8                        Arturo Barrios Invitational           Oct 13, 2018   \n",
       "9  Nuttycombe Wisconsin Invitational Presented By...           Sep 28, 2018   \n",
       "\n",
       "  Events Performance     Place  \n",
       "0   1000     2:58.95   8th (F)  \n",
       "1   1000     2:51.03   4th (P)  \n",
       "2    800     2:11.74   3rd (F)  \n",
       "3    800     2:11.13  15th (F)  \n",
       "4    800     2:10.01  18th (F)  \n",
       "5    800     2:11.07   1st (F)  \n",
       "6  4x400     3:53.65   9th (F)  \n",
       "7     6K     21:18.4      26th  \n",
       "8     6K     22:09.1      57th  \n",
       "9     6K     21:59.7      40th  "
      ]
     },
     "execution_count": 3,
     "metadata": {},
     "output_type": "execute_result"
    }
   ],
   "source": [
    "df.head(10)"
   ]
  },
  {
   "cell_type": "markdown",
   "metadata": {},
   "source": [
    "## Events Column Manipulation"
   ]
  },
  {
   "cell_type": "markdown",
   "metadata": {},
   "source": [
    "Essentially dummying out as much information about results as possible"
   ]
  },
  {
   "cell_type": "code",
   "execution_count": 4,
   "metadata": {},
   "outputs": [],
   "source": [
    "df['event'] = df.Events"
   ]
  },
  {
   "cell_type": "code",
   "execution_count": 5,
   "metadata": {},
   "outputs": [
    {
     "data": {
      "text/plain": [
       "array(['1000', '800', '4x400', '6K', 'DMR', '1500', '4x1600', 'Mile',\n",
       "       '400', '600', '4.953K', '4x800', '4x1500', '5K', '600 yd',\n",
       "       '1600SMR', '5000', '10,000', '3000', '4K', '110H', '100', '200',\n",
       "       '4x100', '60', '3000S', '4x200', 'PV', 'LJ', '10K', '8K', '5M',\n",
       "       'TJ', '3.12M', '400H', '4M', '60H', 'SP', 'HT', 'DT', '2000S',\n",
       "       'WT', 'HJ', '100H', '100SH', 'Pent', 'JT', '110SH', '4.97M', '300',\n",
       "       '4.96M', '3K', 'Hep', '6.2M', 'Dec', '4x440 yd', '8.4K', '3M',\n",
       "       '55', '3.73M', '3.1M', '3.11M', '4.1K', '3.2K', '1600', '500',\n",
       "       '8.042K', '2.49M', '4x880 yd', '6.4K', '5.914K', '5.848K', '7.6K',\n",
       "       '8.369K', '8.067K', '9.725K', '9.981K', '8.085K', '4x1609',\n",
       "       '4xMile', '5.5K', '4.975K', '3.218K', '1500S', '6.21167M',\n",
       "       '6.195K', '4.523K', '3.72825M', '4.01K', '6.327K', 'K', '6.387K',\n",
       "       '55H', '60SH', '27.5SH', '3.219K', '3.21869K', '5.875K', '5.872K',\n",
       "       '3.72M', '7.98K', '2.48M', '4x300', '4.5M', '2.6M', '4.25K',\n",
       "       '4.25M', '4.98K', '2M', '4.163K', '6.123K', '7K', '7.2K',\n",
       "       '1000 yd', '4.2K', '4.8M', '1.86M', '5.8K', '4.97K', '1M',\n",
       "       '8.035K', '5.03K', '4.965K', '4.8K', '7.85K', '5.92K', '8.125K',\n",
       "       '600m', '6.43738K'], dtype=object)"
      ]
     },
     "execution_count": 5,
     "metadata": {},
     "output_type": "execute_result"
    }
   ],
   "source": [
    "# need to convert events to an integer, all on the same scale (meters)\n",
    "df.Events.unique()"
   ]
  },
  {
   "cell_type": "code",
   "execution_count": 6,
   "metadata": {},
   "outputs": [],
   "source": [
    "df.Events = df.Events.apply(lambda x: str(x).replace(',', ''))"
   ]
  },
  {
   "cell_type": "code",
   "execution_count": 7,
   "metadata": {},
   "outputs": [],
   "source": [
    "# update K as an event to 1000m race\n",
    "df.Events = df.Events.apply(lambda x: 1000 if x == 'K' else x)"
   ]
  },
  {
   "cell_type": "code",
   "execution_count": 8,
   "metadata": {},
   "outputs": [],
   "source": [
    "# create function to convert the event distances in meters to floats of race distance\n",
    "def event_data(event_str):\n",
    "    try:\n",
    "        return float(event_str)\n",
    "    except:\n",
    "        return event_str"
   ]
  },
  {
   "cell_type": "code",
   "execution_count": 9,
   "metadata": {},
   "outputs": [],
   "source": [
    "df.Events = df.Events.apply(event_data)"
   ]
  },
  {
   "cell_type": "code",
   "execution_count": 10,
   "metadata": {},
   "outputs": [],
   "source": [
    "# create function to convert events in K's (1000 meters) to floats of race distance\n",
    "def events_k(event):\n",
    "    if 'K' in str(event):\n",
    "        try:\n",
    "            return float(event.split('K')[0])*1000\n",
    "        except:\n",
    "            return event\n",
    "    else:\n",
    "        return event"
   ]
  },
  {
   "cell_type": "code",
   "execution_count": 11,
   "metadata": {},
   "outputs": [],
   "source": [
    "df.Events = df.Events.apply(events_k)"
   ]
  },
  {
   "cell_type": "code",
   "execution_count": 12,
   "metadata": {},
   "outputs": [],
   "source": [
    "# convert mile races to meters; 1609.344 meters in a mile\n",
    "df.Events = df.Events.apply(lambda x: 1609.344 if x == 'Mile' else x)"
   ]
  },
  {
   "cell_type": "code",
   "execution_count": 13,
   "metadata": {},
   "outputs": [],
   "source": [
    "# create function to take distances in miles and convert them to meters\n",
    "def events_miles(event):\n",
    "    if 'M' in str(event):\n",
    "        try:\n",
    "            return float(event.split('M')[0])*1609.344\n",
    "        except:\n",
    "            return event\n",
    "    else:\n",
    "        return event"
   ]
  },
  {
   "cell_type": "code",
   "execution_count": 14,
   "metadata": {},
   "outputs": [],
   "source": [
    "df.Events = df.Events.apply(events_miles)"
   ]
  },
  {
   "cell_type": "code",
   "execution_count": 15,
   "metadata": {},
   "outputs": [],
   "source": [
    "# convert events in yards to meters\n",
    "def yds_to_meters(event):\n",
    "    if 'yd' in str(event).lower():\n",
    "        try:\n",
    "            return float(event.split('yd')[0])* 1609.344 / 1760 # 1760 yards in a mile / 1609.344 meters\n",
    "        except:\n",
    "            return event\n",
    "    else:\n",
    "        return event"
   ]
  },
  {
   "cell_type": "code",
   "execution_count": 16,
   "metadata": {},
   "outputs": [],
   "source": [
    "df.Events = df.Events.apply(yds_to_meters)"
   ]
  },
  {
   "cell_type": "code",
   "execution_count": 17,
   "metadata": {},
   "outputs": [],
   "source": [
    "# create column for relays performances (aggregate time rather than split or individual time performance)\n",
    "# not purdy points eligible\n",
    "def mark_as_relay(event):\n",
    "    if 'x' in str(event).lower():\n",
    "        return 1\n",
    "    elif 'mr' in str(event).lower():\n",
    "        return 1\n",
    "    elif 'sh' in str(event).lower():\n",
    "        return 1\n",
    "    else:\n",
    "        return 0"
   ]
  },
  {
   "cell_type": "code",
   "execution_count": 18,
   "metadata": {},
   "outputs": [],
   "source": [
    "df['is_relay'] = df.Events.apply(mark_as_relay)"
   ]
  },
  {
   "cell_type": "code",
   "execution_count": 19,
   "metadata": {},
   "outputs": [],
   "source": [
    "# create a column for hurdles events\n",
    "# not on the purdy points scale\n",
    "def mark_as_hurdles(event):\n",
    "    if 's' in str(event).lower() or 'h' in str(event).lower():\n",
    "        return 1\n",
    "    else:\n",
    "        return 0"
   ]
  },
  {
   "cell_type": "code",
   "execution_count": 20,
   "metadata": {},
   "outputs": [],
   "source": [
    "df['has_hurdles'] = df.Events.apply(mark_as_hurdles)"
   ]
  },
  {
   "cell_type": "code",
   "execution_count": 21,
   "metadata": {},
   "outputs": [],
   "source": [
    "# create column to mark field events, which are measurements\n",
    "# not purdy points eligible\n",
    "field_list = ['PV', # Pole Vault\n",
    "              'LJ', # Long jump\n",
    "              'TJ', # Triple jump\n",
    "              'DT', # Discus throw \n",
    "              'WT', # Weight throw\n",
    "              'JT' # Javelin Throw\n",
    "             ]\n",
    "def mark_as_field(event):\n",
    "    counter = 0 # initialize for while loop\n",
    "    while counter <= len(field_list):\n",
    "        counter = 0\n",
    "        for field_event in field_list:\n",
    "            if field_event.lower() == str(event).lower():\n",
    "                return 1\n",
    "                break\n",
    "            else:\n",
    "                counter += 1\n",
    "        return 0"
   ]
  },
  {
   "cell_type": "code",
   "execution_count": 22,
   "metadata": {},
   "outputs": [],
   "source": [
    "df['is_field_event'] = df.Events.apply(mark_as_field)"
   ]
  },
  {
   "cell_type": "code",
   "execution_count": 23,
   "metadata": {},
   "outputs": [],
   "source": [
    "# mark multi's events as such;\n",
    "# not purdy points elgibile but on their own scale of comparability!\n",
    "multis_list = ['pent', # Pentathlon\n",
    "              'dec', # Decathlon\n",
    "               'hep' # Heptathlon\n",
    "             ]\n",
    "def mark_as_multis(event):\n",
    "    counter = 0 # initialize for while loop\n",
    "    while counter <= len(multis_list):\n",
    "        counter = 0\n",
    "        for multi_event in multis_list:\n",
    "            if multi_event.lower() == str(event).lower():\n",
    "                return 1\n",
    "                break\n",
    "            else:\n",
    "                counter += 1\n",
    "        return 0"
   ]
  },
  {
   "cell_type": "code",
   "execution_count": 24,
   "metadata": {},
   "outputs": [],
   "source": [
    "df['is_multi_event'] = df.Events.apply(mark_as_multis)"
   ]
  },
  {
   "cell_type": "code",
   "execution_count": 25,
   "metadata": {},
   "outputs": [],
   "source": [
    "# final cleanup; 600 event was sometimes called '600m'\n",
    "df.Events = df.Events.apply(lambda x: 600 if x == '600m' else x)"
   ]
  },
  {
   "cell_type": "code",
   "execution_count": 26,
   "metadata": {
    "scrolled": true
   },
   "outputs": [
    {
     "data": {
      "text/plain": [
       "array([1000.0, 800.0, 6000.0, 1500.0, 1609.344, 400.0, 600.0, 4953.0,\n",
       "       5000.0, 548.64, 10000.0, 3000.0, 4000.0, 100.0, 200.0, 60.0,\n",
       "       8000.0, 8046.72, 5021.15328, 6437.376, 7998.4396799999995, 300.0,\n",
       "       7982.34624, 9977.9328, 8400.0, 4828.032, 55.0, 6002.85312,\n",
       "       4988.9664, 5005.05984, 4100.0, 3200.0, 1600.0, 500.0, 8042.0,\n",
       "       4007.2665600000005, 6400.0, 5914.0, 5848.0, 7600.0, 8369.0, 8067.0,\n",
       "       9725.0, 9981.0, 8085.000000000001, 5500.0, 4975.0, 3218.0,\n",
       "       9996.71384448, 6195.0, 4523.0, 6000.036768, 4010.0, 6327.0, 6387.0,\n",
       "       3219.0, 3218.69, 5875.0, 5872.0, 5986.75968, 7980.0, 3991.17312,\n",
       "       7242.048000000001, 4184.294400000001, 4250.0, 6839.712, 4980.0,\n",
       "       3218.688, 4163.0, 6123.0, 7000.0, 7200.0, 914.4, 4200.0, 7724.8512,\n",
       "       2993.37984, 5800.0, 4970.0, 8035.0, 5030.0, 4965.0, 4800.0, 7850.0,\n",
       "       5920.0, 8125.0, 6437.38], dtype=object)"
      ]
     },
     "execution_count": 26,
     "metadata": {},
     "output_type": "execute_result"
    }
   ],
   "source": [
    "df[(df.is_relay == 0) & (df.has_hurdles == 0) & (df.is_field_event == 0) & (df.is_multi_event == 0)]['Events'].unique()"
   ]
  },
  {
   "cell_type": "code",
   "execution_count": 27,
   "metadata": {},
   "outputs": [
    {
     "data": {
      "text/plain": [
       "Name                 0\n",
       "Grade                0\n",
       "Team                 0\n",
       "Location             0\n",
       "Date                77\n",
       "Events               0\n",
       "Performance          1\n",
       "Place             7807\n",
       "event                0\n",
       "is_relay             0\n",
       "has_hurdles          0\n",
       "is_field_event       0\n",
       "is_multi_event       0\n",
       "dtype: int64"
      ]
     },
     "execution_count": 27,
     "metadata": {},
     "output_type": "execute_result"
    }
   ],
   "source": [
    "df.isnull().sum()"
   ]
  },
  {
   "cell_type": "code",
   "execution_count": 28,
   "metadata": {},
   "outputs": [
    {
     "data": {
      "text/plain": [
       "array(['Benedict Draghi', 'Elissa Mann'], dtype=object)"
      ]
     },
     "execution_count": 28,
     "metadata": {},
     "output_type": "execute_result"
    }
   ],
   "source": [
    "df[df.Date.isnull()].Name.unique()"
   ]
  },
  {
   "cell_type": "markdown",
   "metadata": {},
   "source": [
    "**Manual Date imputation for two athletes by exporting to CSV**"
   ]
  },
  {
   "cell_type": "code",
   "execution_count": 29,
   "metadata": {},
   "outputs": [],
   "source": [
    "# read DataFrame into CSV for imputation\n",
    "# df.to_csv('manual_date_imputation.csv')"
   ]
  },
  {
   "cell_type": "code",
   "execution_count": 30,
   "metadata": {},
   "outputs": [],
   "source": [
    "# create a new dataframe for calculating purdy points only\n",
    "# df_purdy = df[(df.is_relay == 0) & (df.has_hurdles == 0) & (df.is_field_event == 0) & (df.is_multi_event == 0)]"
   ]
  },
  {
   "cell_type": "code",
   "execution_count": 31,
   "metadata": {},
   "outputs": [],
   "source": [
    "df = pd.read_csv('manual_date_imputation.csv')"
   ]
  },
  {
   "cell_type": "code",
   "execution_count": 32,
   "metadata": {},
   "outputs": [
    {
     "data": {
      "text/html": [
       "<div>\n",
       "<style scoped>\n",
       "    .dataframe tbody tr th:only-of-type {\n",
       "        vertical-align: middle;\n",
       "    }\n",
       "\n",
       "    .dataframe tbody tr th {\n",
       "        vertical-align: top;\n",
       "    }\n",
       "\n",
       "    .dataframe thead th {\n",
       "        text-align: right;\n",
       "    }\n",
       "</style>\n",
       "<table border=\"1\" class=\"dataframe\">\n",
       "  <thead>\n",
       "    <tr style=\"text-align: right;\">\n",
       "      <th></th>\n",
       "      <th>Unnamed: 0</th>\n",
       "      <th>Name</th>\n",
       "      <th>Grade</th>\n",
       "      <th>Team</th>\n",
       "      <th>Location</th>\n",
       "      <th>Date</th>\n",
       "      <th>Events</th>\n",
       "      <th>Performance</th>\n",
       "      <th>Place</th>\n",
       "      <th>event</th>\n",
       "      <th>is_relay</th>\n",
       "      <th>has_hurdles</th>\n",
       "      <th>is_field_event</th>\n",
       "      <th>is_multi_event</th>\n",
       "    </tr>\n",
       "  </thead>\n",
       "  <tbody>\n",
       "    <tr>\n",
       "      <th>0</th>\n",
       "      <td>0</td>\n",
       "      <td>Abbie Hetherington</td>\n",
       "      <td>(Sr-4)</td>\n",
       "      <td>Oklahoma State</td>\n",
       "      <td>Big 12 Championships</td>\n",
       "      <td>02/22 - Feb 23, 2019</td>\n",
       "      <td>1000</td>\n",
       "      <td>02:59.0</td>\n",
       "      <td>8th (F)</td>\n",
       "      <td>1000</td>\n",
       "      <td>0</td>\n",
       "      <td>0</td>\n",
       "      <td>0</td>\n",
       "      <td>0</td>\n",
       "    </tr>\n",
       "    <tr>\n",
       "      <th>1</th>\n",
       "      <td>1</td>\n",
       "      <td>Abbie Hetherington</td>\n",
       "      <td>(Sr-4)</td>\n",
       "      <td>Oklahoma State</td>\n",
       "      <td>Big 12 Championships</td>\n",
       "      <td>02/22 - Feb 23, 2019</td>\n",
       "      <td>1000</td>\n",
       "      <td>02:51.0</td>\n",
       "      <td>4th (P)</td>\n",
       "      <td>1000</td>\n",
       "      <td>0</td>\n",
       "      <td>0</td>\n",
       "      <td>0</td>\n",
       "      <td>0</td>\n",
       "    </tr>\n",
       "    <tr>\n",
       "      <th>2</th>\n",
       "      <td>2</td>\n",
       "      <td>Abbie Hetherington</td>\n",
       "      <td>(Sr-4)</td>\n",
       "      <td>Oklahoma State</td>\n",
       "      <td>Arkansas Qualifier</td>\n",
       "      <td>15-Feb-19</td>\n",
       "      <td>800</td>\n",
       "      <td>02:11.7</td>\n",
       "      <td>3rd (F)</td>\n",
       "      <td>800</td>\n",
       "      <td>0</td>\n",
       "      <td>0</td>\n",
       "      <td>0</td>\n",
       "      <td>0</td>\n",
       "    </tr>\n",
       "    <tr>\n",
       "      <th>3</th>\n",
       "      <td>3</td>\n",
       "      <td>Abbie Hetherington</td>\n",
       "      <td>(Sr-4)</td>\n",
       "      <td>Oklahoma State</td>\n",
       "      <td>2019 Husky Classic</td>\n",
       "      <td>02/08 - Feb  09, 2019</td>\n",
       "      <td>800</td>\n",
       "      <td>02:11.1</td>\n",
       "      <td>15th (F)</td>\n",
       "      <td>800</td>\n",
       "      <td>0</td>\n",
       "      <td>0</td>\n",
       "      <td>0</td>\n",
       "      <td>0</td>\n",
       "    </tr>\n",
       "    <tr>\n",
       "      <th>4</th>\n",
       "      <td>4</td>\n",
       "      <td>Abbie Hetherington</td>\n",
       "      <td>(Sr-4)</td>\n",
       "      <td>Oklahoma State</td>\n",
       "      <td>2019 UW Invitational</td>\n",
       "      <td>01/25 - Jan 26, 2019</td>\n",
       "      <td>800</td>\n",
       "      <td>02:10.0</td>\n",
       "      <td>18th (F)</td>\n",
       "      <td>800</td>\n",
       "      <td>0</td>\n",
       "      <td>0</td>\n",
       "      <td>0</td>\n",
       "      <td>0</td>\n",
       "    </tr>\n",
       "  </tbody>\n",
       "</table>\n",
       "</div>"
      ],
      "text/plain": [
       "   Unnamed: 0                Name   Grade            Team  \\\n",
       "0           0  Abbie Hetherington  (Sr-4)  Oklahoma State   \n",
       "1           1  Abbie Hetherington  (Sr-4)  Oklahoma State   \n",
       "2           2  Abbie Hetherington  (Sr-4)  Oklahoma State   \n",
       "3           3  Abbie Hetherington  (Sr-4)  Oklahoma State   \n",
       "4           4  Abbie Hetherington  (Sr-4)  Oklahoma State   \n",
       "\n",
       "               Location                   Date Events Performance     Place  \\\n",
       "0  Big 12 Championships   02/22 - Feb 23, 2019   1000     02:59.0   8th (F)   \n",
       "1  Big 12 Championships   02/22 - Feb 23, 2019   1000     02:51.0   4th (P)   \n",
       "2    Arkansas Qualifier              15-Feb-19    800     02:11.7   3rd (F)   \n",
       "3    2019 Husky Classic  02/08 - Feb  09, 2019    800     02:11.1  15th (F)   \n",
       "4  2019 UW Invitational   01/25 - Jan 26, 2019    800     02:10.0  18th (F)   \n",
       "\n",
       "  event  is_relay  has_hurdles  is_field_event  is_multi_event  \n",
       "0  1000         0            0               0               0  \n",
       "1  1000         0            0               0               0  \n",
       "2   800         0            0               0               0  \n",
       "3   800         0            0               0               0  \n",
       "4   800         0            0               0               0  "
      ]
     },
     "execution_count": 32,
     "metadata": {},
     "output_type": "execute_result"
    }
   ],
   "source": [
    "df.head()"
   ]
  }
 ],
 "metadata": {
  "kernelspec": {
   "display_name": "Python 3",
   "language": "python",
   "name": "python3"
  },
  "language_info": {
   "codemirror_mode": {
    "name": "ipython",
    "version": 3
   },
   "file_extension": ".py",
   "mimetype": "text/x-python",
   "name": "python",
   "nbconvert_exporter": "python",
   "pygments_lexer": "ipython3",
   "version": "3.6.5"
  }
 },
 "nbformat": 4,
 "nbformat_minor": 2
}
